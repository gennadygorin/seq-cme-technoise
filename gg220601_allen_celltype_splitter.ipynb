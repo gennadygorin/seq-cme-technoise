{
 "cells": [
  {
   "cell_type": "markdown",
   "id": "e98b5861",
   "metadata": {},
   "source": [
    "This notebook goes through Allen datasets and pulls out specific cell types or subtypes."
   ]
  },
  {
   "cell_type": "code",
   "execution_count": 166,
   "id": "ee6c88f7",
   "metadata": {},
   "outputs": [],
   "source": [
    "import loompy as lp\n",
    "import pandas as pd\n",
    "import numpy as np\n",
    "import scipy\n",
    "from scipy import sparse\n",
    "import matplotlib.pyplot as plt\n",
    "import time\n",
    "import os.path\n"
   ]
  },
  {
   "cell_type": "code",
   "execution_count": 29,
   "id": "4188dfc4",
   "metadata": {},
   "outputs": [],
   "source": [
    "allen_membership = pd.read_csv('~/count_data/allen_metadata/cluster.membership.csv',\\\n",
    "                               skiprows = 1, names=['barcode','cluster_id'])\n",
    "allen_annot = pd.read_csv('~/count_data/allen_metadata/cluster.annotation.csv')\n"
   ]
  },
  {
   "cell_type": "code",
   "execution_count": 30,
   "id": "5efbc19a",
   "metadata": {},
   "outputs": [
    {
     "data": {
      "text/html": [
       "<div>\n",
       "<style scoped>\n",
       "    .dataframe tbody tr th:only-of-type {\n",
       "        vertical-align: middle;\n",
       "    }\n",
       "\n",
       "    .dataframe tbody tr th {\n",
       "        vertical-align: top;\n",
       "    }\n",
       "\n",
       "    .dataframe thead th {\n",
       "        text-align: right;\n",
       "    }\n",
       "</style>\n",
       "<table border=\"1\" class=\"dataframe\">\n",
       "  <thead>\n",
       "    <tr style=\"text-align: right;\">\n",
       "      <th></th>\n",
       "      <th>barcode</th>\n",
       "      <th>cluster_id</th>\n",
       "    </tr>\n",
       "  </thead>\n",
       "  <tbody>\n",
       "    <tr>\n",
       "      <th>0</th>\n",
       "      <td>AAACCCAAGCTTCATG-1L8TX_181211_01_G12</td>\n",
       "      <td>42</td>\n",
       "    </tr>\n",
       "    <tr>\n",
       "      <th>1</th>\n",
       "      <td>AAACCCAAGTGAGGTC-1L8TX_181211_01_G12</td>\n",
       "      <td>41</td>\n",
       "    </tr>\n",
       "    <tr>\n",
       "      <th>2</th>\n",
       "      <td>AAACCCACACCAGCCA-1L8TX_181211_01_G12</td>\n",
       "      <td>42</td>\n",
       "    </tr>\n",
       "    <tr>\n",
       "      <th>3</th>\n",
       "      <td>AAACCCAGTGAACGGT-1L8TX_181211_01_G12</td>\n",
       "      <td>41</td>\n",
       "    </tr>\n",
       "    <tr>\n",
       "      <th>4</th>\n",
       "      <td>AAACCCAGTGGCATCC-1L8TX_181211_01_G12</td>\n",
       "      <td>20</td>\n",
       "    </tr>\n",
       "    <tr>\n",
       "      <th>...</th>\n",
       "      <td>...</td>\n",
       "      <td>...</td>\n",
       "    </tr>\n",
       "    <tr>\n",
       "      <th>94165</th>\n",
       "      <td>TTTGTTGTCAGCATTG-12L8TX_190430_01_G08</td>\n",
       "      <td>40</td>\n",
       "    </tr>\n",
       "    <tr>\n",
       "      <th>94166</th>\n",
       "      <td>TTTGTTGTCATTGCGA-12L8TX_190430_01_G08</td>\n",
       "      <td>41</td>\n",
       "    </tr>\n",
       "    <tr>\n",
       "      <th>94167</th>\n",
       "      <td>TTTGTTGTCCCAACTC-12L8TX_190430_01_G08</td>\n",
       "      <td>43</td>\n",
       "    </tr>\n",
       "    <tr>\n",
       "      <th>94168</th>\n",
       "      <td>TTTGTTGTCTATGCCC-12L8TX_190430_01_G08</td>\n",
       "      <td>42</td>\n",
       "    </tr>\n",
       "    <tr>\n",
       "      <th>94169</th>\n",
       "      <td>TTTGTTGTCTTGGAAC-12L8TX_190430_01_G08</td>\n",
       "      <td>42</td>\n",
       "    </tr>\n",
       "  </tbody>\n",
       "</table>\n",
       "<p>94170 rows × 2 columns</p>\n",
       "</div>"
      ],
      "text/plain": [
       "                                     barcode  cluster_id\n",
       "0       AAACCCAAGCTTCATG-1L8TX_181211_01_G12          42\n",
       "1       AAACCCAAGTGAGGTC-1L8TX_181211_01_G12          41\n",
       "2       AAACCCACACCAGCCA-1L8TX_181211_01_G12          42\n",
       "3       AAACCCAGTGAACGGT-1L8TX_181211_01_G12          41\n",
       "4       AAACCCAGTGGCATCC-1L8TX_181211_01_G12          20\n",
       "...                                      ...         ...\n",
       "94165  TTTGTTGTCAGCATTG-12L8TX_190430_01_G08          40\n",
       "94166  TTTGTTGTCATTGCGA-12L8TX_190430_01_G08          41\n",
       "94167  TTTGTTGTCCCAACTC-12L8TX_190430_01_G08          43\n",
       "94168  TTTGTTGTCTATGCCC-12L8TX_190430_01_G08          42\n",
       "94169  TTTGTTGTCTTGGAAC-12L8TX_190430_01_G08          42\n",
       "\n",
       "[94170 rows x 2 columns]"
      ]
     },
     "execution_count": 30,
     "metadata": {},
     "output_type": "execute_result"
    }
   ],
   "source": [
    "allen_membership"
   ]
  },
  {
   "cell_type": "code",
   "execution_count": 31,
   "id": "15ffebf4",
   "metadata": {},
   "outputs": [
    {
     "data": {
      "text/html": [
       "<div>\n",
       "<style scoped>\n",
       "    .dataframe tbody tr th:only-of-type {\n",
       "        vertical-align: middle;\n",
       "    }\n",
       "\n",
       "    .dataframe tbody tr th {\n",
       "        vertical-align: top;\n",
       "    }\n",
       "\n",
       "    .dataframe thead th {\n",
       "        text-align: right;\n",
       "    }\n",
       "</style>\n",
       "<table border=\"1\" class=\"dataframe\">\n",
       "  <thead>\n",
       "    <tr style=\"text-align: right;\">\n",
       "      <th></th>\n",
       "      <th>cluster_id</th>\n",
       "      <th>cluster_label</th>\n",
       "      <th>subclass_label</th>\n",
       "      <th>class_label</th>\n",
       "      <th>cluster_color</th>\n",
       "      <th>size</th>\n",
       "    </tr>\n",
       "  </thead>\n",
       "  <tbody>\n",
       "    <tr>\n",
       "      <th>0</th>\n",
       "      <td>1</td>\n",
       "      <td>Lamp5 Pax6</td>\n",
       "      <td>Lamp5</td>\n",
       "      <td>GABAergic</td>\n",
       "      <td>#DDACC9</td>\n",
       "      <td>81</td>\n",
       "    </tr>\n",
       "    <tr>\n",
       "      <th>1</th>\n",
       "      <td>2</td>\n",
       "      <td>Lamp5 Egln3_2_1</td>\n",
       "      <td>Lamp5</td>\n",
       "      <td>GABAergic</td>\n",
       "      <td>#DD8091</td>\n",
       "      <td>179</td>\n",
       "    </tr>\n",
       "    <tr>\n",
       "      <th>2</th>\n",
       "      <td>3</td>\n",
       "      <td>Lamp5 Pdlim5_1</td>\n",
       "      <td>Lamp5</td>\n",
       "      <td>GABAergic</td>\n",
       "      <td>#FF829E</td>\n",
       "      <td>247</td>\n",
       "    </tr>\n",
       "    <tr>\n",
       "      <th>3</th>\n",
       "      <td>4</td>\n",
       "      <td>Lamp5 Pdlim5_2</td>\n",
       "      <td>Lamp5</td>\n",
       "      <td>GABAergic</td>\n",
       "      <td>#FF7290</td>\n",
       "      <td>537</td>\n",
       "    </tr>\n",
       "    <tr>\n",
       "      <th>4</th>\n",
       "      <td>5</td>\n",
       "      <td>Lamp5 Slc35d3_1</td>\n",
       "      <td>Lamp5</td>\n",
       "      <td>GABAergic</td>\n",
       "      <td>#FFA388</td>\n",
       "      <td>1275</td>\n",
       "    </tr>\n",
       "    <tr>\n",
       "      <th>...</th>\n",
       "      <td>...</td>\n",
       "      <td>...</td>\n",
       "      <td>...</td>\n",
       "      <td>...</td>\n",
       "      <td>...</td>\n",
       "      <td>...</td>\n",
       "    </tr>\n",
       "    <tr>\n",
       "      <th>142</th>\n",
       "      <td>143</td>\n",
       "      <td>L6b Shisa6_low_1</td>\n",
       "      <td>Low Quality</td>\n",
       "      <td>Low Quality</td>\n",
       "      <td>#5A7A65</td>\n",
       "      <td>84</td>\n",
       "    </tr>\n",
       "    <tr>\n",
       "      <th>143</th>\n",
       "      <td>144</td>\n",
       "      <td>L6b Shisa6_low_2</td>\n",
       "      <td>Low Quality</td>\n",
       "      <td>Low Quality</td>\n",
       "      <td>#1F7C70</td>\n",
       "      <td>95</td>\n",
       "    </tr>\n",
       "    <tr>\n",
       "      <th>144</th>\n",
       "      <td>145</td>\n",
       "      <td>Oligo Opalin_neuon</td>\n",
       "      <td>doublet</td>\n",
       "      <td>Low Quality</td>\n",
       "      <td>#41775C</td>\n",
       "      <td>16</td>\n",
       "    </tr>\n",
       "    <tr>\n",
       "      <th>145</th>\n",
       "      <td>146</td>\n",
       "      <td>Endo Slc38a5_5</td>\n",
       "      <td>doublet</td>\n",
       "      <td>Low Quality</td>\n",
       "      <td>#4C6863</td>\n",
       "      <td>36</td>\n",
       "    </tr>\n",
       "    <tr>\n",
       "      <th>146</th>\n",
       "      <td>147</td>\n",
       "      <td>Endo_VLMC</td>\n",
       "      <td>doublet</td>\n",
       "      <td>Low Quality</td>\n",
       "      <td>#5A6E5E</td>\n",
       "      <td>18</td>\n",
       "    </tr>\n",
       "  </tbody>\n",
       "</table>\n",
       "<p>147 rows × 6 columns</p>\n",
       "</div>"
      ],
      "text/plain": [
       "     cluster_id       cluster_label subclass_label  class_label cluster_color  \\\n",
       "0             1          Lamp5 Pax6          Lamp5    GABAergic       #DDACC9   \n",
       "1             2     Lamp5 Egln3_2_1          Lamp5    GABAergic       #DD8091   \n",
       "2             3      Lamp5 Pdlim5_1          Lamp5    GABAergic       #FF829E   \n",
       "3             4      Lamp5 Pdlim5_2          Lamp5    GABAergic       #FF7290   \n",
       "4             5     Lamp5 Slc35d3_1          Lamp5    GABAergic       #FFA388   \n",
       "..          ...                 ...            ...          ...           ...   \n",
       "142         143    L6b Shisa6_low_1    Low Quality  Low Quality       #5A7A65   \n",
       "143         144    L6b Shisa6_low_2    Low Quality  Low Quality       #1F7C70   \n",
       "144         145  Oligo Opalin_neuon        doublet  Low Quality       #41775C   \n",
       "145         146      Endo Slc38a5_5        doublet  Low Quality       #4C6863   \n",
       "146         147           Endo_VLMC        doublet  Low Quality       #5A6E5E   \n",
       "\n",
       "     size  \n",
       "0      81  \n",
       "1     179  \n",
       "2     247  \n",
       "3     537  \n",
       "4    1275  \n",
       "..    ...  \n",
       "142    84  \n",
       "143    95  \n",
       "144    16  \n",
       "145    36  \n",
       "146    18  \n",
       "\n",
       "[147 rows x 6 columns]"
      ]
     },
     "execution_count": 31,
     "metadata": {},
     "output_type": "execute_result"
    }
   ],
   "source": [
    "allen_annot"
   ]
  },
  {
   "cell_type": "code",
   "execution_count": 33,
   "id": "22a6ab4d",
   "metadata": {},
   "outputs": [],
   "source": [
    "annot_bcs = list(allen_membership['barcode'])\n",
    "annot_cid = np.asarray(allen_membership['cluster_id'])\n",
    "annot_exp = np.asarray([x[-3:] for x in annot_bcs])\n",
    "annot_bcs = np.asarray([x[:16] for x in annot_bcs])\n",
    "annot_n = len(annot_bcs)"
   ]
  },
  {
   "cell_type": "code",
   "execution_count": 120,
   "id": "a2d60217",
   "metadata": {},
   "outputs": [],
   "source": [
    "celltype_names = ['GABAergic','Glutamatergic','L5 IT','L6 IT','L6 CT']\n",
    "celltype_abbr = ['gaba','glu','l5it','l6it','l6ct']\n",
    "n_celltypes = len(celltype_names)"
   ]
  },
  {
   "cell_type": "code",
   "execution_count": 124,
   "id": "52bce379",
   "metadata": {},
   "outputs": [],
   "source": [
    "celltype_clusters = [np.where(allen_annot['class_label'] == x)[0] for x in celltype_names[:2]] + \\\n",
    "                    [np.where(allen_annot['subclass_label'] == x)[0] for x in celltype_names[2:]]"
   ]
  },
  {
   "cell_type": "code",
   "execution_count": 148,
   "id": "c650ff8a",
   "metadata": {},
   "outputs": [
    {
     "data": {
      "text/plain": [
       "[array([ 0,  1,  2,  3,  4,  5,  6,  7,  8,  9, 10, 11, 12, 13, 14, 15, 16,\n",
       "        17, 18, 19, 20, 21, 22, 23, 24, 25, 26, 27, 28, 29, 30, 31, 32, 33,\n",
       "        34, 35, 36, 37, 38]),\n",
       " array([39, 40, 41, 42, 43, 44, 45, 46, 47, 48, 49, 50, 51, 52, 53, 54, 55,\n",
       "        56, 57, 58, 59, 60, 61, 62, 63, 64, 65, 66, 67]),\n",
       " array([40, 41, 42, 43]),\n",
       " array([44, 45, 46, 47]),\n",
       " array([58, 59, 60, 61, 62, 63])]"
      ]
     },
     "execution_count": 148,
     "metadata": {},
     "output_type": "execute_result"
    }
   ],
   "source": [
    "celltype_clusters"
   ]
  },
  {
   "cell_type": "code",
   "execution_count": 155,
   "id": "53c6f40b",
   "metadata": {},
   "outputs": [],
   "source": [
    "annot_cid_filter = np.zeros((n_celltypes,len(annot_bcs)),dtype=bool)\n",
    "for cl in range(n_celltypes):\n",
    "    annot_cid_filter[cl,:] = np.isin(annot_cid,celltype_clusters[cl])"
   ]
  },
  {
   "cell_type": "code",
   "execution_count": 162,
   "id": "315226f9",
   "metadata": {},
   "outputs": [
    {
     "name": "stdout",
     "output_type": "stream",
     "text": [
      "allen_A08_gaba: 741 barcodes.\n",
      "allen_A08_glu: 5093 barcodes.\n",
      "allen_A08_l5it: 3140 barcodes.\n",
      "allen_A08_l6it: 199 barcodes.\n",
      "allen_A08_l6ct: 1305 barcodes.\n",
      "allen_B01_gaba: 796 barcodes.\n",
      "allen_B01_glu: 6555 barcodes.\n",
      "allen_B01_l5it: 4293 barcodes.\n",
      "allen_B01_l6it: 229 barcodes.\n",
      "allen_B01_l6ct: 1367 barcodes.\n",
      "allen_B08_gaba: 871 barcodes.\n",
      "allen_B08_glu: 5466 barcodes.\n",
      "allen_B08_l5it: 3243 barcodes.\n",
      "allen_B08_l6it: 266 barcodes.\n",
      "allen_B08_l6ct: 1398 barcodes.\n",
      "allen_C01_gaba: 778 barcodes.\n",
      "allen_C01_glu: 6771 barcodes.\n",
      "allen_C01_l5it: 4393 barcodes.\n",
      "allen_C01_l6it: 254 barcodes.\n",
      "allen_C01_l6ct: 1375 barcodes.\n"
     ]
    }
   ],
   "source": [
    "datasets = ['A08','B01','B08','C01']\n",
    "spliced_layer = 'spliced'\n",
    "unspliced_layer = 'unspliced'\n",
    "gene_attr = 'gene_name'\n",
    "cell_attr = 'barcode'\n",
    "\n",
    "outdir = '/home/ggorin/count_data/loom_allen_celltype_kb/test/'\n",
    "for d in datasets:\n",
    "    filename = '/home/ggorin/count_data/allen_{}/counts_filtered/adata.loom'.format(d)\n",
    "    with lp.connect(filename) as ds:\n",
    "        S = ds.layers[spliced_layer][:]\n",
    "        U = ds.layers[unspliced_layer][:]\n",
    "        gene_names = ds.ra[gene_attr]\n",
    "        bcs = ds.ca[cell_attr]\n",
    "        for celltype in range(n_celltypes):\n",
    "            S_ = np.copy(S)\n",
    "            U_ = np.copy(U)\n",
    "            celltype_exp_bcs = annot_bcs[annot_cid_filter[celltype]]\n",
    "            cf = np.asarray([True if (x in celltype_exp_bcs) else False for x in bcs])\n",
    "            S_ = S[:,cf]\n",
    "            U_ = U[:,cf]\n",
    "            bc_filt = bcs[cf]\n",
    "            print('allen_{}_{}: {:.0f} barcodes.'.format(d,celltype_abbr[celltype],cf.sum()))\n",
    "            \n",
    "            lp.create(outdir+'/allen_{}_{}.loom'.format(d,celltype_abbr[celltype]),\\\n",
    "                      layers={'':scipy.sparse.csr_matrix(S_.shape),\n",
    "                              spliced_layer:S_,\n",
    "                              unspliced_layer:U_},\\\n",
    "                              row_attrs={gene_attr:gene_names},\\\n",
    "                              col_attrs={cell_attr:bc_filt})"
   ]
  },
  {
   "cell_type": "code",
   "execution_count": 170,
   "id": "f066e555",
   "metadata": {},
   "outputs": [
    {
     "name": "stdout",
     "output_type": "stream",
     "text": [
      "/home/ggorin/count_data/allen_A01/counts_filtered/adata.loom\n",
      "DNE...\tDNE...\tDNE...\tDNE...\t"
     ]
    },
    {
     "ename": "KeyboardInterrupt",
     "evalue": "",
     "output_type": "error",
     "traceback": [
      "\u001b[0;31m---------------------------------------------------------------------------\u001b[0m",
      "\u001b[0;31mKeyboardInterrupt\u001b[0m                         Traceback (most recent call last)",
      "\u001b[0;32m/tmp/ipykernel_3705561/957588321.py\u001b[0m in \u001b[0;36m<module>\u001b[0;34m\u001b[0m\n\u001b[1;32m      8\u001b[0m     \u001b[0;32mwhile\u001b[0m \u001b[0;32mnot\u001b[0m \u001b[0mos\u001b[0m\u001b[0;34m.\u001b[0m\u001b[0mpath\u001b[0m\u001b[0;34m.\u001b[0m\u001b[0misfile\u001b[0m\u001b[0;34m(\u001b[0m\u001b[0mfilename\u001b[0m\u001b[0;34m)\u001b[0m\u001b[0;34m:\u001b[0m\u001b[0;34m\u001b[0m\u001b[0;34m\u001b[0m\u001b[0m\n\u001b[1;32m      9\u001b[0m         \u001b[0mprint\u001b[0m\u001b[0;34m(\u001b[0m\u001b[0;34m'DNE...'\u001b[0m \u001b[0;34m,\u001b[0m\u001b[0mend\u001b[0m\u001b[0;34m=\u001b[0m\u001b[0;34m'\\t'\u001b[0m\u001b[0;34m)\u001b[0m\u001b[0;34m\u001b[0m\u001b[0;34m\u001b[0m\u001b[0m\n\u001b[0;32m---> 10\u001b[0;31m         \u001b[0mtime\u001b[0m\u001b[0;34m.\u001b[0m\u001b[0msleep\u001b[0m\u001b[0;34m(\u001b[0m\u001b[0;36m900\u001b[0m\u001b[0;34m)\u001b[0m\u001b[0;34m\u001b[0m\u001b[0;34m\u001b[0m\u001b[0m\n\u001b[0m\u001b[1;32m     11\u001b[0m \u001b[0;34m\u001b[0m\u001b[0m\n\u001b[1;32m     12\u001b[0m \u001b[0;34m\u001b[0m\u001b[0m\n",
      "\u001b[0;31mKeyboardInterrupt\u001b[0m: "
     ]
    }
   ],
   "source": [
    "datasets = ['A01','D01','E01','F01','G12','H12','F08','G08']\n",
    "\n",
    "\n",
    "outdir = '/home/ggorin/count_data/loom_allen_celltype_kb/test/'\n",
    "for d in datasets:\n",
    "    filename = '/home/ggorin/count_data/allen_{}/counts_filtered/adata.loom'.format(d)\n",
    "    print(filename)\n",
    "    while (not os.path.isfile(filename) ) or (os.path.isdir('/home/ggorin/count_data/allen_{}/tmp/'.format(d))):\n",
    "        print('DNE...' ,end='\\t')\n",
    "        time.sleep(900)\n",
    "\n",
    "    \n",
    "    with lp.connect(filename) as ds:\n",
    "        S = ds.layers[spliced_layer][:]\n",
    "        U = ds.layers[unspliced_layer][:]\n",
    "        gene_names = ds.ra[gene_attr]\n",
    "        bcs = ds.ca[cell_attr]\n",
    "        for celltype in range(n_celltypes):\n",
    "            S_ = np.copy(S)\n",
    "            U_ = np.copy(U)\n",
    "            celltype_exp_bcs = annot_bcs[annot_cid_filter[celltype]]\n",
    "            cf = np.asarray([True if (x in celltype_exp_bcs) else False for x in bcs])\n",
    "            S_ = S[:,cf]\n",
    "            U_ = U[:,cf]\n",
    "            bc_filt = bcs[cf]\n",
    "            print('allen_{}_{}: {:.0f} barcodes.'.format(d,celltype_abbr[celltype],cf.sum()))\n",
    "            \n",
    "            lp.create(outdir+'/allen_{}_{}.loom'.format(d,celltype_abbr[celltype]),\\\n",
    "                      layers={'':scipy.sparse.csr_matrix(S_.shape),\n",
    "                              spliced_layer:S_,\n",
    "                              unspliced_layer:U_},\\\n",
    "                              row_attrs={gene_attr:gene_names},\\\n",
    "                              col_attrs={cell_attr:bc_filt})"
   ]
  },
  {
   "cell_type": "code",
   "execution_count": 172,
   "id": "f7eb5ef7",
   "metadata": {},
   "outputs": [
    {
     "data": {
      "text/plain": [
       "True"
      ]
     },
     "execution_count": 172,
     "metadata": {},
     "output_type": "execute_result"
    }
   ],
   "source": [
    "os.access('/home/ggorin/count_data/allen_{}/counts_filtered/adata.loom'.format(d), os.R_OK)"
   ]
  },
  {
   "cell_type": "code",
   "execution_count": 176,
   "id": "7071ac10",
   "metadata": {},
   "outputs": [
    {
     "data": {
      "text/plain": [
       "True"
      ]
     },
     "execution_count": 176,
     "metadata": {},
     "output_type": "execute_result"
    }
   ],
   "source": [
    "os.path.isdir('/home/ggorin/count_data/allen_{}/tmp/'.format(d))"
   ]
  },
  {
   "cell_type": "code",
   "execution_count": null,
   "id": "fbb70fc1",
   "metadata": {},
   "outputs": [],
   "source": []
  }
 ],
 "metadata": {
  "kernelspec": {
   "display_name": "Python 3",
   "language": "python",
   "name": "python3"
  },
  "language_info": {
   "codemirror_mode": {
    "name": "ipython",
    "version": 3
   },
   "file_extension": ".py",
   "mimetype": "text/x-python",
   "name": "python",
   "nbconvert_exporter": "python",
   "pygments_lexer": "ipython3",
   "version": "3.9.1"
  }
 },
 "nbformat": 4,
 "nbformat_minor": 5
}
