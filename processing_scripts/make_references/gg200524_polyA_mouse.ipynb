{
  "nbformat": 4,
  "nbformat_minor": 0,
  "metadata": {
    "kernelspec": {
      "display_name": "Python 3",
      "language": "python",
      "name": "python3"
    },
    "language_info": {
      "codemirror_mode": {
        "name": "ipython",
        "version": 3
      },
      "file_extension": ".py",
      "mimetype": "text/x-python",
      "name": "python",
      "nbconvert_exporter": "python",
      "pygments_lexer": "ipython3",
      "version": "3.6.6"
    },
    "colab": {
      "name": "gg200524_polyA_mouse.ipynb",
      "provenance": [],
      "collapsed_sections": []
    }
  },
  "cells": [
    {
      "cell_type": "code",
      "metadata": {
        "id": "VaxrM8LTEjcA"
      },
      "source": [
        "import numpy as np\n",
        "import matplotlib as plt\n",
        "%config InlineBackend.figure_format = 'retina'"
      ],
      "execution_count": null,
      "outputs": []
    },
    {
      "cell_type": "code",
      "metadata": {
        "id": "B4nd_buOEjcC"
      },
      "source": [
        "import re"
      ],
      "execution_count": null,
      "outputs": []
    },
    {
      "cell_type": "code",
      "metadata": {
        "scrolled": false,
        "id": "_5cA4ky_EjcD",
        "outputId": "6885dc68-dcdf-468f-96aa-b2465c4df614"
      },
      "source": [
        "max_length_repeat = 50\n",
        "min_length_repeat = 5\n",
        "hist_bins = np.append(np.arange(min_length_repeat,max_length_repeat+2)-0.5,np.inf)\n",
        "split_cond = 'C|G|T'\n",
        "gene_list = []\n",
        "len_list = []\n",
        "mean_length = []\n",
        "\n",
        "with open('/home/ggorin/gene_search/mouse_all_genes1.fasta','r') as f:\n",
        "    c = f.readlines()\n",
        "    header_lines = [line_num for line_num in range(len(c)) if c[line_num][0] == '>']\n",
        "\n",
        "    n_genes = len(header_lines)\n",
        "    n_bins = len(hist_bins)-1\n",
        "    hist = np.zeros((n_genes,n_bins))\n",
        "    \n",
        "    print(n_genes)\n",
        "#     for jj in range(50):\n",
        "    for jj in range(n_genes):\n",
        "        gene_beg = header_lines[jj]\n",
        "        if jj<len(header_lines)-1:\n",
        "            gene_end = header_lines[jj+1]\n",
        "        else:\n",
        "            gene_end = len(c)\n",
        "        seq = ''.join([line[0:-1] for line in c[gene_beg+1:gene_end]])\n",
        "        \n",
        "        header = c[gene_beg][1:-1]\n",
        "        header_div = [n for n in range(len(header)) if header[n] == '|']\n",
        "\n",
        "        gene_start = header[(header_div[1]+1):(header_div[2])]\n",
        "        gene_end = header[(header_div[2]+1):(header_div[3])]\n",
        "        gene_len = int(gene_end)-int(gene_start)+1\n",
        "        \n",
        "        spl_str_len = [len(i) for i in [i for i in re.split(split_cond,seq) if i]]\n",
        "        if len(spl_str_len)>0:\n",
        "            max_len = max(spl_str_len)\n",
        "        else: \n",
        "            max_len = 0\n",
        "        if max_len >= min_length_repeat:\n",
        "            hist[jj,:] = np.histogram(spl_str_len,hist_bins)[0]\n",
        "\n",
        "        if np.mod(jj,100) == 0:\n",
        "            # print(str(round(jj/n_genes*100,3))+'%',end='\\t')\n",
        "        \n",
        "        len_list.append(gene_len)\n",
        "        gene_name = header[(header_div[5]+1):]\n",
        "        gene_list.append(gene_name)\n",
        "        "
      ],
      "execution_count": null,
      "outputs": [
        {
          "output_type": "stream",
          "text": [
            "56305\n",
            "0.0%\t0.178%\t0.355%\t0.533%\t0.71%\t0.888%\t1.066%\t1.243%\t1.421%\t1.598%\t1.776%\t1.954%\t2.131%\t2.309%\t2.486%\t2.664%\t2.842%\t3.019%\t3.197%\t3.374%\t3.552%\t3.73%\t3.907%\t4.085%\t4.262%\t4.44%\t4.618%\t4.795%\t4.973%\t5.151%\t5.328%\t5.506%\t5.683%\t5.861%\t6.039%\t6.216%\t6.394%\t6.571%\t6.749%\t6.927%\t7.104%\t7.282%\t7.459%\t7.637%\t7.815%\t7.992%\t8.17%\t8.347%\t8.525%\t8.703%\t8.88%\t9.058%\t9.235%\t9.413%\t9.591%\t9.768%\t9.946%\t10.123%\t10.301%\t10.479%\t10.656%\t10.834%\t11.011%\t11.189%\t11.367%\t11.544%\t11.722%\t11.899%\t12.077%\t12.255%\t12.432%\t12.61%\t12.787%\t12.965%\t13.143%\t13.32%\t13.498%\t13.676%\t13.853%\t14.031%\t14.208%\t14.386%\t14.564%\t14.741%\t14.919%\t15.096%\t15.274%\t15.452%\t15.629%\t15.807%\t15.984%\t16.162%\t16.34%\t16.517%\t16.695%\t16.872%\t17.05%\t17.228%\t17.405%\t17.583%\t17.76%\t17.938%\t18.116%\t18.293%\t18.471%\t18.648%\t18.826%\t19.004%\t19.181%\t19.359%\t19.536%\t19.714%\t19.892%\t20.069%\t20.247%\t20.424%\t20.602%\t20.78%\t20.957%\t21.135%\t21.312%\t21.49%\t21.668%\t21.845%\t22.023%\t22.201%\t22.378%\t22.556%\t22.733%\t22.911%\t23.089%\t23.266%\t23.444%\t23.621%\t23.799%\t23.977%\t24.154%\t24.332%\t24.509%\t24.687%\t24.865%\t25.042%\t25.22%\t25.397%\t25.575%\t25.753%\t25.93%\t26.108%\t26.285%\t26.463%\t26.641%\t26.818%\t26.996%\t27.173%\t27.351%\t27.529%\t27.706%\t27.884%\t28.061%\t28.239%\t28.417%\t28.594%\t28.772%\t28.949%\t29.127%\t29.305%\t29.482%\t29.66%\t29.837%\t30.015%\t30.193%\t30.37%\t30.548%\t30.726%\t30.903%\t31.081%\t31.258%\t31.436%\t31.614%\t31.791%\t31.969%\t32.146%\t32.324%\t32.502%\t32.679%\t32.857%\t33.034%\t33.212%\t33.39%\t33.567%\t33.745%\t33.922%\t34.1%\t34.278%\t34.455%\t34.633%\t34.81%\t34.988%\t35.166%\t35.343%\t35.521%\t35.698%\t35.876%\t36.054%\t36.231%\t36.409%\t36.586%\t36.764%\t36.942%\t37.119%\t37.297%\t37.474%\t37.652%\t37.83%\t38.007%\t38.185%\t38.362%\t38.54%\t38.718%\t38.895%\t39.073%\t39.251%\t39.428%\t39.606%\t39.783%\t39.961%\t40.139%\t40.316%\t40.494%\t40.671%\t40.849%\t41.027%\t41.204%\t41.382%\t41.559%\t41.737%\t41.915%\t42.092%\t42.27%\t42.447%\t42.625%\t42.803%\t42.98%\t43.158%\t43.335%\t43.513%\t43.691%\t43.868%\t44.046%\t44.223%\t44.401%\t44.579%\t44.756%\t44.934%\t45.111%\t45.289%\t45.467%\t45.644%\t45.822%\t45.999%\t46.177%\t46.355%\t46.532%\t46.71%\t46.887%\t47.065%\t47.243%\t47.42%\t47.598%\t47.776%\t47.953%\t48.131%\t48.308%\t48.486%\t48.664%\t48.841%\t49.019%\t49.196%\t49.374%\t49.552%\t49.729%\t49.907%\t50.084%\t50.262%\t50.44%\t50.617%\t50.795%\t50.972%\t51.15%\t51.328%\t51.505%\t51.683%\t51.86%\t52.038%\t52.216%\t52.393%\t52.571%\t52.748%\t52.926%\t53.104%\t53.281%\t53.459%\t53.636%\t53.814%\t53.992%\t54.169%\t54.347%\t54.524%\t54.702%\t54.88%\t55.057%\t55.235%\t55.412%\t55.59%\t55.768%\t55.945%\t56.123%\t56.301%\t56.478%\t56.656%\t56.833%\t57.011%\t57.189%\t57.366%\t57.544%\t57.721%\t57.899%\t58.077%\t58.254%\t58.432%\t58.609%\t58.787%\t58.965%\t59.142%\t59.32%\t59.497%\t59.675%\t59.853%\t60.03%\t60.208%\t60.385%\t60.563%\t60.741%\t60.918%\t61.096%\t61.273%\t61.451%\t61.629%\t61.806%\t61.984%\t62.161%\t62.339%\t62.517%\t62.694%\t62.872%\t63.049%\t63.227%\t63.405%\t63.582%\t63.76%\t63.937%\t64.115%\t64.293%\t64.47%\t64.648%\t64.826%\t65.003%\t65.181%\t65.358%\t65.536%\t65.714%\t65.891%\t66.069%\t66.246%\t66.424%\t66.602%\t66.779%\t66.957%\t67.134%\t67.312%\t67.49%\t67.667%\t67.845%\t68.022%\t68.2%\t68.378%\t68.555%\t68.733%\t68.91%\t69.088%\t69.266%\t69.443%\t69.621%\t69.798%\t69.976%\t70.154%\t70.331%\t70.509%\t70.686%\t70.864%\t71.042%\t71.219%\t71.397%\t71.574%\t71.752%\t71.93%\t72.107%\t72.285%\t72.462%\t72.64%\t72.818%\t72.995%\t73.173%\t73.351%\t73.528%\t73.706%\t73.883%\t74.061%\t74.239%\t74.416%\t74.594%\t74.771%\t74.949%\t75.127%\t75.304%\t75.482%\t75.659%\t75.837%\t76.015%\t76.192%\t76.37%\t76.547%\t76.725%\t76.903%\t77.08%\t77.258%\t77.435%\t77.613%\t77.791%\t77.968%\t78.146%\t78.323%\t78.501%\t78.679%\t78.856%\t79.034%\t79.211%\t79.389%\t79.567%\t79.744%\t79.922%\t80.099%\t80.277%\t80.455%\t80.632%\t80.81%\t80.987%\t81.165%\t81.343%\t81.52%\t81.698%\t81.875%\t82.053%\t82.231%\t82.408%\t82.586%\t82.764%\t82.941%\t83.119%\t83.296%\t83.474%\t83.652%\t83.829%\t84.007%\t84.184%\t84.362%\t84.54%\t84.717%\t84.895%\t85.072%\t85.25%\t85.428%\t85.605%\t85.783%\t85.96%\t86.138%\t86.316%\t86.493%\t86.671%\t86.848%\t87.026%\t87.204%\t87.381%\t87.559%\t87.736%\t87.914%\t88.092%\t88.269%\t88.447%\t88.624%\t88.802%\t88.98%\t89.157%\t89.335%\t89.512%\t89.69%\t89.868%\t90.045%\t90.223%\t90.4%\t90.578%\t90.756%\t90.933%\t91.111%\t91.289%\t91.466%\t91.644%\t91.821%\t91.999%\t92.177%\t92.354%\t92.532%\t92.709%\t92.887%\t93.065%\t93.242%\t93.42%\t93.597%\t93.775%\t93.953%\t94.13%\t94.308%\t94.485%\t94.663%\t94.841%\t95.018%\t95.196%\t95.373%\t95.551%\t95.729%\t95.906%\t96.084%\t96.261%\t96.439%\t96.617%\t96.794%\t96.972%\t97.149%\t97.327%\t97.505%\t97.682%\t97.86%\t98.037%\t98.215%\t98.393%\t98.57%\t98.748%\t98.925%\t99.103%\t99.281%\t99.458%\t99.636%\t99.814%\t99.991%\t"
          ],
          "name": "stdout"
        }
      ]
    },
    {
      "cell_type": "code",
      "metadata": {
        "id": "WN3jk7IBEjcF"
      },
      "source": [
        "hist_int = hist.astype('int32')"
      ],
      "execution_count": null,
      "outputs": []
    },
    {
      "cell_type": "code",
      "metadata": {
        "id": "U9fghM5REjcG"
      },
      "source": [
        "with open('../gene_search/gg_200525_mouse_genome_polyA_1','w') as file:\n",
        "    for i in range(n_genes):\n",
        "        file.write(gene_list[i]+' '+str(len_list[i])+' '+np.array2string(\n",
        "            hist_int[i,:],max_line_width=np.inf,separator=' ')[1:-1]+'\\n')"
      ],
      "execution_count": null,
      "outputs": []
    },
    {
      "cell_type": "code",
      "metadata": {
        "id": "__iJCTzZEjcG"
      },
      "source": [
        "hist_cum = np.fliplr(np.cumsum(np.fliplr(hist_int),1))"
      ],
      "execution_count": null,
      "outputs": []
    },
    {
      "cell_type": "code",
      "metadata": {
        "id": "Xt33jttmEjcG"
      },
      "source": [
        "with open('../gene_search/gg_200524_mouse_genome_polyA_cum_1','w') as file:\n",
        "    for i in range(n_genes):\n",
        "        file.write(gene_list[i]+' '+str(len_list[i])+' '+np.array2string(\n",
        "            hist_cum[i,:],max_line_width=np.inf,separator=' ')[1:-1]+'\\n')"
      ],
      "execution_count": null,
      "outputs": []
    }
  ]
}