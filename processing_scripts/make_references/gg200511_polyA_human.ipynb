{
  "nbformat": 4,
  "nbformat_minor": 0,
  "metadata": {
    "kernelspec": {
      "display_name": "Python 3",
      "language": "python",
      "name": "python3"
    },
    "language_info": {
      "codemirror_mode": {
        "name": "ipython",
        "version": 3
      },
      "file_extension": ".py",
      "mimetype": "text/x-python",
      "name": "python",
      "nbconvert_exporter": "python",
      "pygments_lexer": "ipython3",
      "version": "3.6.6"
    },
    "colab": {
      "name": "gg200511_polyA_human.ipynb",
      "provenance": []
    }
  },
  "cells": [
    {
      "cell_type": "code",
      "metadata": {
        "id": "-C-ntwl-FDYd"
      },
      "source": [
        "import numpy as np\n",
        "import matplotlib as plt\n",
        "%config InlineBackend.figure_format = 'retina'"
      ],
      "execution_count": null,
      "outputs": []
    },
    {
      "cell_type": "code",
      "metadata": {
        "id": "wqMtpokwFDYe"
      },
      "source": [
        "import re"
      ],
      "execution_count": null,
      "outputs": []
    },
    {
      "cell_type": "code",
      "metadata": {
        "scrolled": false,
        "id": "Ai7ExVn6FDYf"
      },
      "source": [
        "max_length_repeat = 50\n",
        "min_length_repeat = 5\n",
        "hist_bins = np.append(np.arange(min_length_repeat,max_length_repeat+2)-0.5,np.inf)\n",
        "split_cond = 'C|G|T'\n",
        "gene_list = []\n",
        "len_list = []\n",
        "mean_length = []\n",
        "\n",
        "with open('../gene_search/human_all_genes1.fasta','r') as f:\n",
        "    c = f.readlines()\n",
        "    header_lines = [line_num for line_num in range(len(c)) if c[line_num][0] == '>']\n",
        "\n",
        "    n_genes = len(header_lines)\n",
        "    n_bins = len(hist_bins)-1\n",
        "    hist = np.zeros((n_genes,n_bins))\n",
        "    \n",
        "    print(n_genes)\n",
        "#     for jj in range(5):\n",
        "    for jj in range(n_genes):\n",
        "        gene_beg = header_lines[jj]\n",
        "        if jj<len(header_lines)-1:\n",
        "            gene_end = header_lines[jj+1]\n",
        "        else:\n",
        "            gene_end = len(c)\n",
        "        seq = ''.join([line[0:-1] for line in c[gene_beg+1:gene_end]])\n",
        "        \n",
        "        header = c[gene_beg][1:-1]\n",
        "        header_div = [n for n in range(len(header)) if header[n] == '|']\n",
        "\n",
        "        gene_start = header[(header_div[1]+1):(header_div[2])]\n",
        "        gene_end = header[(header_div[2]+1):(header_div[3])]\n",
        "        gene_len = int(gene_end)-int(gene_start)+1\n",
        "        \n",
        "        spl_str_len = [len(i) for i in [i for i in re.split(split_cond,seq) if i]]\n",
        "        if max(spl_str_len) >= min_length_repeat:\n",
        "            hist[jj,:] = np.histogram(spl_str_len,hist_bins)[0]\n",
        "\n",
        "        if np.mod(jj,100) == 0:\n",
        "            print(str(round(jj/n_genes*100,3))+'%',end='\\t')\n",
        "        \n",
        "        len_list.append(gene_len)\n",
        "        gene_name = header[(header_div[5]+1):]\n",
        "        gene_list.append(gene_name)"
      ],
      "execution_count": null,
      "outputs": []
    },
    {
      "cell_type": "code",
      "metadata": {
        "id": "QuLMjErCFDYh"
      },
      "source": [
        "hist_int = hist.astype('int32')"
      ],
      "execution_count": null,
      "outputs": []
    },
    {
      "cell_type": "code",
      "metadata": {
        "id": "G49UzXshFDYh"
      },
      "source": [
        "with open('../gene_search/gg_200525_genome_polyA_3','w') as file:\n",
        "    for i in range(n_genes):\n",
        "        file.write(gene_list[i]+' '+str(len_list[i])+' '+np.array2string(\n",
        "            hist_int[i,:],max_line_width=np.inf,separator=' ')[1:-1]+'\\n')"
      ],
      "execution_count": null,
      "outputs": []
    },
    {
      "cell_type": "code",
      "metadata": {
        "id": "UxCtWN28FDYh"
      },
      "source": [
        "hist_cum = np.fliplr(np.cumsum(np.fliplr(hist_int),1))"
      ],
      "execution_count": null,
      "outputs": []
    },
    {
      "cell_type": "code",
      "metadata": {
        "id": "edNP6AZpFDYi"
      },
      "source": [
        "with open('../gene_search/gg_200525_genome_polyA_cum_3','w') as file:\n",
        "    for i in range(n_genes):\n",
        "        file.write(gene_list[i]+' '+str(len_list[i])+' '+np.array2string(\n",
        "            hist_cum[i,:],max_line_width=np.inf,separator=' ')[1:-1]+'\\n')"
      ],
      "execution_count": null,
      "outputs": []
    }
  ]
}